{
 "cells": [
  {
   "cell_type": "code",
   "execution_count": 1,
   "id": "cfd1bc2c",
   "metadata": {},
   "outputs": [],
   "source": [
    "import cv2 as cv\n",
    "import numpy as np\n",
    "\n"
   ]
  },
  {
   "cell_type": "code",
   "execution_count": 2,
   "id": "3d4fd4b3",
   "metadata": {},
   "outputs": [],
   "source": [
    "from IPython.display import display,Image"
   ]
  },
  {
   "cell_type": "code",
   "execution_count": 3,
   "id": "d98efe18",
   "metadata": {},
   "outputs": [],
   "source": [
    "# pip install roboflow\n"
   ]
  },
  {
   "cell_type": "code",
   "execution_count": 4,
   "id": "592adf1c",
   "metadata": {},
   "outputs": [],
   "source": [
    "# from roboflow import Roboflow\n",
    "# rf = Roboflow(api_key=\"skGiO46ei6WKyfpYHdrh\")\n",
    "# project = rf.workspace(\"hackathon-project\").project(\"test-7xped\")\n",
    "# dataset = project.version(1).download(\"yolov8\")"
   ]
  },
  {
   "cell_type": "code",
   "execution_count": 5,
   "id": "bf83f454",
   "metadata": {},
   "outputs": [],
   "source": [
    "#pip install ultralytics --user"
   ]
  },
  {
   "cell_type": "code",
   "execution_count": 6,
   "id": "e8fe332d",
   "metadata": {},
   "outputs": [],
   "source": [
    "\n",
    "# from ultralytics import YOLO"
   ]
  },
  {
   "cell_type": "code",
   "execution_count": 7,
   "id": "884d3317",
   "metadata": {},
   "outputs": [],
   "source": [
    "# model=YOLO('yolov8n.pt')\n",
    "# results=model.predict(source='test_img.jpg', conf=0.25)"
   ]
  },
  {
   "cell_type": "code",
   "execution_count": 8,
   "id": "828d5296",
   "metadata": {},
   "outputs": [],
   "source": [
    "# results2=model.predict(source='standing.jpg', conf=0.25)"
   ]
  },
  {
   "cell_type": "code",
   "execution_count": 9,
   "id": "559bd72e",
   "metadata": {},
   "outputs": [
    {
     "name": "stdout",
     "output_type": "stream",
     "text": [
      "Requirement already satisfied: opencv-contrib-python in c:\\users\\tukuna\\.conda\\envs\\tensor\\lib\\site-packages (4.7.0.68)Note: you may need to restart the kernel to use updated packages.\n",
      "Requirement already satisfied: numpy>=1.17.3 in c:\\users\\tukuna\\.conda\\envs\\tensor\\lib\\site-packages (from opencv-contrib-python) (1.22.4)\n",
      "\n"
     ]
    }
   ],
   "source": [
    "pip install opencv-contrib-python"
   ]
  },
  {
   "cell_type": "code",
   "execution_count": 38,
   "id": "4b760d58",
   "metadata": {},
   "outputs": [],
   "source": [
    "import cv2\n",
    "\n",
    "# Load the image\n",
    "img = cv2.imread('test_img.jpg')\n",
    "\n",
    "# Convert to grayscale\n",
    "gray = cv2.cvtColor(img, cv2.COLOR_BGR2GRAY)\n",
    "\n",
    "# Apply a Gaussian blur\n",
    "blur = cv2.GaussianBlur(gray, (5, 5), 0)\n",
    "\n",
    "# Detect edges\n",
    "edges = cv2.Canny(blur, 0, 400)\n",
    "\n",
    "# Find contours\n",
    "contours, hierarchy = cv2.findContours(edges, cv2.RETR_EXTERNAL, cv2.CHAIN_APPROX_SIMPLE)\n",
    "\n",
    "# Iterate through contours and find forearm contour\n",
    "forearm_contour = None\n",
    "for contour in contours:\n",
    "    # Calculate centroid of contour\n",
    "    M = cv2.moments(contour)\n",
    "    if M[\"m00\"] != 0:\n",
    "        cx = int(M[\"m10\"] / M[\"m00\"])\n",
    "        cy = int(M[\"m01\"] / M[\"m00\"])\n",
    "        \n",
    "        # Check if centroid is in forearm region\n",
    "        if cx > 100 and cx < 400 and cy > 200 and cy < 500:\n",
    "            forearm_contour = contour\n",
    "            break\n",
    "\n",
    "# Draw forearm contour\n",
    "cv2.drawContours(img, [forearm_contour], 0, (0, 0, 255), 2)\n",
    "\n",
    "# Display the image\n",
    "cv2.imshow('image', img)\n",
    "cv2.waitKey(0)\n",
    "cv2.destroyAllWindows()\n"
   ]
  },
  {
   "cell_type": "code",
   "execution_count": null,
   "id": "90aa52cf",
   "metadata": {},
   "outputs": [],
   "source": [
    "### draw lines on "
   ]
  },
  {
   "cell_type": "code",
   "execution_count": 37,
   "id": "f440b23a",
   "metadata": {},
   "outputs": [],
   "source": [
    "import cv2\n",
    "import numpy as np\n",
    "\n",
    "# Load the image\n",
    "img = cv2.imread('test_img.jpg')\n",
    "\n",
    "# Define the start and end points of the line on the forearm\n",
    "start_point = (90,200)\n",
    "end_point = (200, 100)\n",
    "\n",
    "# Draw the line on the forearm\n",
    "cv2.line(img, start_point, end_point, (0, 255, 0), thickness=2)\n",
    "\n",
    "# Display the image with the line on the forearm\n",
    "cv2.imshow('image with line on forearm', img)\n",
    "cv2.waitKey(0)\n",
    "cv2.destroyAllWindows()\n"
   ]
  },
  {
   "cell_type": "code",
   "execution_count": 40,
   "id": "e81e337c",
   "metadata": {},
   "outputs": [
    {
     "name": "stdout",
     "output_type": "stream",
     "text": [
      "Collecting imutils\n",
      "  Downloading imutils-0.5.4.tar.gz (17 kB)\n",
      "Building wheels for collected packages: imutils\n",
      "  Building wheel for imutils (setup.py): started\n",
      "  Building wheel for imutils (setup.py): finished with status 'done'\n",
      "  Created wheel for imutils: filename=imutils-0.5.4-py3-none-any.whl size=25870 sha256=a84b7eefc78a6b15d380f383ec89b976a88670df44c81d167951174dad50dc37\n",
      "  Stored in directory: c:\\users\\tukuna\\appdata\\local\\pip\\cache\\wheels\\59\\1b\\52\\0dea905f8278d5514dc4d0be5e251967f8681670cadd3dca89\n",
      "Successfully built imutils\n",
      "Installing collected packages: imutilsNote: you may need to restart the kernel to use updated packages.\n",
      "Successfully installed imutils-0.5.4\n",
      "\n"
     ]
    }
   ],
   "source": [
    "pip install imutils"
   ]
  },
  {
   "cell_type": "code",
   "execution_count": 43,
   "id": "32c4d01d",
   "metadata": {},
   "outputs": [
    {
     "name": "stderr",
     "output_type": "stream",
     "text": [
      "usage: ipykernel_launcher.py [-h] -i IMAGE -w WIDTH\n",
      "ipykernel_launcher.py: error: the following arguments are required: -i/--image, -w/--width\n"
     ]
    },
    {
     "ename": "SystemExit",
     "evalue": "2",
     "output_type": "error",
     "traceback": [
      "An exception has occurred, use %tb to see the full traceback.\n",
      "\u001b[1;31mSystemExit\u001b[0m\u001b[1;31m:\u001b[0m 2\n"
     ]
    }
   ],
   "source": [
    "## from scipy.spatial import distance as dist\n",
    "from imutils import perspective\n",
    "from imutils import contours\n",
    "import numpy as np\n",
    "import argparse\n",
    "import imutils\n",
    "import cv2\n",
    "def midpoint(ptA, ptB):\n",
    "    return ((ptA[0] + ptB[0]) * 0.5, (ptA[1] + ptB[1]) * 0.5)\n",
    "# construct the argument parse and parse the arguments\n",
    "ap = argparse.ArgumentParser()\n",
    "ap.add_argument(\"-i\", \"--image\", required=True, help=\"test_img.jpg\")\n",
    "ap.add_argument(\"-w\", \"--width\", type=float, required=True, help=\"7\")\n",
    "args = vars(ap.parse_args())"
   ]
  },
  {
   "cell_type": "code",
   "execution_count": 44,
   "id": "5f79b790",
   "metadata": {},
   "outputs": [
    {
     "ename": "TypeError",
     "evalue": "'NoneType' object is not iterable",
     "output_type": "error",
     "traceback": [
      "\u001b[1;31m---------------------------------------------------------------------------\u001b[0m",
      "\u001b[1;31mTypeError\u001b[0m                                 Traceback (most recent call last)",
      "Input \u001b[1;32mIn [44]\u001b[0m, in \u001b[0;36m<cell line: 10>\u001b[1;34m()\u001b[0m\n\u001b[0;32m      8\u001b[0m abdomen \u001b[38;5;241m=\u001b[39m \u001b[38;5;28;01mNone\u001b[39;00m\n\u001b[0;32m      9\u001b[0m chest \u001b[38;5;241m=\u001b[39m \u001b[38;5;28;01mNone\u001b[39;00m\n\u001b[1;32m---> 10\u001b[0m \u001b[38;5;28;01mfor\u001b[39;00m line \u001b[38;5;129;01min\u001b[39;00m lines:\n\u001b[0;32m     11\u001b[0m     rho, theta \u001b[38;5;241m=\u001b[39m line[\u001b[38;5;241m0\u001b[39m]\n\u001b[0;32m     12\u001b[0m     a \u001b[38;5;241m=\u001b[39m np\u001b[38;5;241m.\u001b[39mcos(theta)\n",
      "\u001b[1;31mTypeError\u001b[0m: 'NoneType' object is not iterable"
     ]
    }
   ],
   "source": [
    "import cv2\n",
    "import numpy as np\n",
    "image = cv2.imread('test_img.jpg')\n",
    "gray = cv2.cvtColor(image, cv2.COLOR_BGR2GRAY)\n",
    "blurred = cv2.GaussianBlur(gray, (5, 5), 0)\n",
    "edges = cv2.Canny(blurred, 50, 150)\n",
    "lines = cv2.HoughLines(edges, 1, np.pi/180, 200)\n",
    "abdomen = None\n",
    "chest = None\n",
    "for line in lines:\n",
    "    rho, theta = line[0]\n",
    "    a = np.cos(theta)\n",
    "    b = np.sin(theta)\n",
    "    x0 = a*rho\n",
    "    y0 = b*rho\n",
    "    x1 = int(x0 + 1000*(-b))\n",
    "    y1 = int(y0 + 1000*(a))\n",
    "    x2 = int(x0 - 1000*(-b))\n",
    "    y2 = int(y0 - 1000*(a))\n",
    "    slope = (y2-y1)/(x2-x1)\n",
    "    if slope > 0.5:\n",
    "        abdomen = (x1, y1, x2, y2)\n",
    "    elif slope < -0.5:\n",
    "        chest = (x1, y1, x2, y2)\n",
    "if abdomen is not None:\n",
    "    cv2.rectangle(image, (abdomen[0], abdomen[1]), (abdomen[2], abdomen[3]), (0, 255, 0), 2)\n",
    "if chest is not None:\n",
    "    cv2.rectangle(image, (chest[0], chest[1]), (chest[2], chest[3]), (0, 0, 255), 2)\n"
   ]
  },
  {
   "cell_type": "code",
   "execution_count": 9,
   "id": "13158dd0",
   "metadata": {},
   "outputs": [
    {
     "data": {
      "text/plain": [
       "-1"
      ]
     },
     "execution_count": 9,
     "metadata": {},
     "output_type": "execute_result"
    }
   ],
   "source": [
    "import cv2\n",
    "import numpy as np\n",
    "\n",
    "\n",
    "webcam=True\n",
    "path='test_img.jpg'\n",
    "\n",
    "cap=cv2.VideoCapture(0)\n",
    "cap.set(10,160)\n",
    "cap.set(3,1920)\n",
    "cap.set(4,1080)\n",
    "\n",
    "wP=210\n",
    "hP=297\n",
    "scale=3\n",
    "\n",
    "\n",
    "def getContours(img, cThr=[100,100], showCanny=False, minArea=1000, filter=0, draw=False):\n",
    "    imgGray=cv2.cvtColor(img,cv2.COLOR_BGR2GRAY)\n",
    "    imgBlur = cv2.GaussianBlur(imgGray, (5,5), 1)\n",
    "    imgCanny= cv2.Canny(imgBlur, cThr[0],cThr[1])\n",
    "    kernel=np.ones((5,5))\n",
    "    imgDial = cv2.dilate(imgCanny,kernel,iterations=3)\n",
    "    imgThre= cv2.erode(imgDial,kernel,iterations=2)\n",
    "    if showCanny:\n",
    "        cv2.imshow('canny', imgCanny)\n",
    "    \n",
    "    contours, hierarchy=cv2.findContours(imgThre,cv2.RETR_EXTERNAL,cv2.CHAIN_APPROX_SIMPLE)\n",
    "    finalContours=[]\n",
    "    for i in contours:\n",
    "        area=cv2.contourArea(i)\n",
    "        if area> minArea:\n",
    "            peri=cv2.arcLength(i,True)\n",
    "            approx=cv2.approxPolyDP(i,0.02*peri,True)\n",
    "            bbox=cv2.boundingRect(approx)\n",
    "            if filter>0:\n",
    "                if len(approx) == filter:\n",
    "                    finalContours.append([len(approx),area,approx, bbox,i])\n",
    "            else:\n",
    "                finalContours.append([len(approx),area,approx, bbox,i])\n",
    "    finalContours=sorted(finalContours,key=lambda x:x[1], reverse=True)    \n",
    "    if draw:\n",
    "        for con in finalContours:\n",
    "            cv2.drawContours(img,con[4],-1,(0,0,255),3)\n",
    "    \n",
    "    return img, finalContours\n",
    "\n",
    "def reorder(mypoints):\n",
    "    print(mypoints.shape)\n",
    "    mypointsnew=np.zeroes_Like(mypoints)\n",
    "    mypoints=mypoints.reshape((4,2))\n",
    "    add=mypoints.sum(1)\n",
    "    mypointsnew[0]=mypoints[np.argmin(add)]\n",
    "    mypointsnew[3]=mypoints[np.argmax(add)]\n",
    "    diff=np.diff(mypoints, axis=1)\n",
    "    mypointsnew[1]=mypoints[np.argmin(diff)]\n",
    "    mypointsnew[2]=mypoints[np.argmax(diff)]\n",
    "    \n",
    "    return mynewpoints\n",
    "\n",
    "def warpImg(img,points, w,h):\n",
    "#     print(points)\n",
    "    points=reorder(points)\n",
    "    \n",
    "    pts1=np.float32(points)\n",
    "    pts2=np.float32([[0,0], [w,0], [0,h],[w,h]])\n",
    "    matrix = cv2.getPerspectiveTransform(pts1,pts2)\n",
    "    imgWrap=cv2.warpPerspective(img,matrix,(w,h))\n",
    "    \n",
    "    return imgWarp\n",
    "\n",
    "    \n",
    "    \n",
    "while True:\n",
    "    if webcam:\n",
    "        success,img=cap.read()\n",
    "        img = cv2.flip(img,1)\n",
    "        cv2.imshow('Original', img)\n",
    "        if cv2.waitKey(90) & 0xFF==ord('s'): #press s to close the window\n",
    "            break\n",
    "        \n",
    "    \n",
    "    else:\n",
    "        img=cv2.imread(path)\n",
    "        cv2.imshow('Original', img)\n",
    "        if cv2.waitKey(90) & 0xFF==ord('s'): #press s to close the window\n",
    "            break\n",
    "    \n",
    "    img, conts=getContours(img,showCanny=True, minArea=50000, filter=4)\n",
    "    \n",
    "    if len(conts)!=0:\n",
    "        biggest=conts[0][2]\n",
    "#         print(biggest)\n",
    "        imgWarp=warpImg(img,biggest,wP,hP)\n",
    "        \n",
    "        imgcontours2, conts2=getContours(imgWarp,showCanny=True, minArea=2000, filter=4, cThr=[50,50], draw=True)\n",
    "        cv2.imshow('A4',imgcontours2)\n",
    "    img=cv2.resize(img,(0,0), None, 0.5,0.5) \n",
    "    cv2.imshow('Original', img)\n",
    "\n",
    "    \n",
    "cap.release()\n",
    "cv2.destroyAllWindows() \n",
    "cv2.waitKey(0)"
   ]
  },
  {
   "cell_type": "code",
   "execution_count": null,
   "id": "c90517ac",
   "metadata": {},
   "outputs": [],
   "source": []
  }
 ],
 "metadata": {
  "kernelspec": {
   "display_name": "Python 3 (ipykernel)",
   "language": "python",
   "name": "python3"
  },
  "language_info": {
   "codemirror_mode": {
    "name": "ipython",
    "version": 3
   },
   "file_extension": ".py",
   "mimetype": "text/x-python",
   "name": "python",
   "nbconvert_exporter": "python",
   "pygments_lexer": "ipython3",
   "version": "3.8.11"
  }
 },
 "nbformat": 4,
 "nbformat_minor": 5
}
